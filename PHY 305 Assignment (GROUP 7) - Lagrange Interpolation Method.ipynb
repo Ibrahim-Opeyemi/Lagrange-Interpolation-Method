{
 "cells": [
  {
   "cell_type": "markdown",
   "metadata": {},
   "source": [
    "# GROUP 7\n",
    "\n",
    "## Lagrange Interpolation Method"
   ]
  },
  {
   "cell_type": "code",
   "execution_count": 1,
   "metadata": {},
   "outputs": [
    {
     "name": "stdout",
     "output_type": "stream",
     "text": [
      "Enter number of data points: 4\n",
      "\n",
      "Enter data for x and y: \n",
      "x[0]=0\n",
      "y[0]=5\n",
      "x[1]=1\n",
      "y[1]=6\n",
      "x[2]=3\n",
      "y[2]=50\n",
      "x[3]=4\n",
      "y[3]=105\n",
      "\n",
      "Enter interpolation point, x = 2\n",
      "\n",
      "Interpolated value at 2.000 is equal to 19.000.\n"
     ]
    }
   ],
   "source": [
    "# Lagrange Interpolation Method\n",
    "\n",
    "# Importing NumPy Library\n",
    "import numpy as np\n",
    "\n",
    "# Reading number of unknowns\n",
    "n = int(input('Enter number of data points: '))\n",
    "\n",
    "# Making numpy array of n & n x n size and initializing to zero for storing x and y value along with differences of y\n",
    "a = np.zeros((n))\n",
    "b = np.zeros((n))\n",
    "\n",
    "# Reading data points\n",
    "\n",
    "print(\"\\nEnter data for x and y: \")\n",
    "for i in range(n):\n",
    "    a[i] = float(input( 'x['+str(i)+']='))\n",
    "    b[i] = float(input( 'y['+str(i)+']='))\n",
    "\n",
    "# Reading interpolation point\n",
    "x = float(input(\"\\nEnter interpolation point, x = \"))\n",
    "\n",
    "# Set interpolated value initially to zero\n",
    "sm = 0\n",
    "\n",
    "# Implementing Lagrange Interpolation\n",
    "for i in range(n):\n",
    "\n",
    "    pr = 1\n",
    "\n",
    "    for j in range(n):\n",
    "        if i != j:\n",
    "            pr = pr * (x - a[j])/(a[i] - a[j])\n",
    "\n",
    "    sm = sm + pr * b[i]\n",
    "\n",
    "# Displaying output\n",
    "print(\"\\nInterpolated value at %.3f is equal to %.3f.\" % (x, sm))"
   ]
  },
  {
   "cell_type": "code",
   "execution_count": null,
   "metadata": {},
   "outputs": [],
   "source": []
  }
 ],
 "metadata": {
  "kernelspec": {
   "display_name": "Python 3",
   "language": "python",
   "name": "python3"
  },
  "language_info": {
   "codemirror_mode": {
    "name": "ipython",
    "version": 3
   },
   "file_extension": ".py",
   "mimetype": "text/x-python",
   "name": "python",
   "nbconvert_exporter": "python",
   "pygments_lexer": "ipython3",
   "version": "3.8.5"
  }
 },
 "nbformat": 4,
 "nbformat_minor": 4
}
